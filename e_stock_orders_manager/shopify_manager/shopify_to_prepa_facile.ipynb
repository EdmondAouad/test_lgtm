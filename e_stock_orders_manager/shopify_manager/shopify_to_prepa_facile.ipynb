{
 "cells": [
  {
   "cell_type": "code",
   "execution_count": 1,
   "metadata": {},
   "outputs": [],
   "source": [
    "import shopify\n",
    "import datetime\n",
    "from datetime import date, timedelta\n",
    "import pandas as pd\n",
    "API_KEY = '3b53e8c31f54f969f0ec188c5a3e2b60'\n",
    "PASSWORD = '5449dca275ad2dfd3b30c776f4a60acc'\n",
    "SHOP_NAME = 'iriscosmetics'\n",
    "SHARED_SECRET = '77131d150311bf079cbdfc6939838daf'\n",
    "shop_url = \"https://%s.myshopify.com/admin\" % (SHOP_NAME)\n",
    "\n",
    "shopify.ShopifyResource.set_user(API_KEY)\n",
    "shopify.ShopifyResource.set_password(PASSWORD)\n",
    "shopify.ShopifyResource.set_site(shop_url)\n",
    "#The following code prints the amount of orders up in your shopify store in command prompt window\n",
    "#shop = shopify.Shop.current()\n"
   ]
  },
  {
   "cell_type": "code",
   "execution_count": 20,
   "metadata": {},
   "outputs": [],
   "source": [
    "SINCE_NUM_DAYS = 1\n",
    "UNTIL_NUM_DAYS = 0\n",
    "def date_from_today(n):\n",
    "    return str(date.today() - timedelta(n))\n",
    "orders = shopify.Order.find(created_at_min = date_from_today(SINCE_NUM_DAYS),\n",
    "                           created_at_max = date_from_today(UNTIL_NUM_DAYS))"
   ]
  },
  {
   "cell_type": "code",
   "execution_count": 21,
   "metadata": {},
   "outputs": [
    {
     "data": {
      "text/plain": [
       "[]"
      ]
     },
     "execution_count": 21,
     "metadata": {},
     "output_type": "execute_result"
    }
   ],
   "source": [
    "orders"
   ]
  },
  {
   "cell_type": "code",
   "execution_count": 24,
   "metadata": {},
   "outputs": [],
   "source": [
    "LAPOSTE_COLUMNS = ['Raison sociale', 'Civilité', 'Nom', 'Prénom', 'Identité / Service / Etage',\n",
    " 'Bâtiment / Immeuble', 'N° et libellé de voie', 'Lieu-dit / BP', 'Code Postal', 'Ville',\n",
    " 'Mobile', 'Téléphone', 'Email', 'Référence Destinataire']\n",
    "\n",
    "def laposte_df(orders):\n",
    "    laposte_df = pd.DataFrame(columns = LAPOSTE_COLUMNS)\n",
    "    for order in orders:\n",
    "        shipping_data = order.to_dict()['shipping_address']\n",
    "        df = pd.DataFrame(columns = LAPOSTE_COLUMNS)\n",
    "        df['Nom'] = [shipping_data['last_name'].replace('  ', ' ').strip()]\n",
    "        df['Prénom'] = shipping_data['first_name'].replace('  ', ' ').strip()\n",
    "        df['N° et libellé de voie'] = shipping_data['address1'].replace('  ', ' ').strip()\n",
    "        df['Code Postal'] = shipping_data['zip']\n",
    "        df['Ville'] = shipping_data['city'].strip()\n",
    "        df['Mobile'] = shipping_data['phone']\n",
    "        df['Email'] = order.to_dict()['email']\n",
    "        laposte_df = pd.concat([laposte_df, df])\n",
    "    laposte_df = laposte_df.reset_index(drop = True)\n",
    "    laposte_df.index = [i+1 for i in range(len(laposte_df))]\n",
    "    return laposte_df\n",
    "        "
   ]
  },
  {
   "cell_type": "code",
   "execution_count": 23,
   "metadata": {},
   "outputs": [],
   "source": [
    "import os\n",
    "subdir = 'laposte_csv/'\n",
    "yesterday = date_from_today(1)\n",
    "\n",
    "if not os.path.exists(subdir):\n",
    "    os.mkdir(subdir)\n",
    "laposte_df(orders).to_csv(subdir + '/' + yesterday +'.csv', sep = ';')"
   ]
  },
  {
   "cell_type": "code",
   "execution_count": 25,
   "metadata": {},
   "outputs": [
    {
     "data": {
      "text/html": [
       "<div>\n",
       "<style scoped>\n",
       "    .dataframe tbody tr th:only-of-type {\n",
       "        vertical-align: middle;\n",
       "    }\n",
       "\n",
       "    .dataframe tbody tr th {\n",
       "        vertical-align: top;\n",
       "    }\n",
       "\n",
       "    .dataframe thead th {\n",
       "        text-align: right;\n",
       "    }\n",
       "</style>\n",
       "<table border=\"1\" class=\"dataframe\">\n",
       "  <thead>\n",
       "    <tr style=\"text-align: right;\">\n",
       "      <th></th>\n",
       "      <th>Raison sociale</th>\n",
       "      <th>Civilité</th>\n",
       "      <th>Nom</th>\n",
       "      <th>Prénom</th>\n",
       "      <th>Identité / Service / Etage</th>\n",
       "      <th>Bâtiment / Immeuble</th>\n",
       "      <th>N° et libellé de voie</th>\n",
       "      <th>Lieu-dit / BP</th>\n",
       "      <th>Code Postal</th>\n",
       "      <th>Ville</th>\n",
       "      <th>Mobile</th>\n",
       "      <th>Téléphone</th>\n",
       "      <th>Email</th>\n",
       "      <th>Référence Destinataire</th>\n",
       "    </tr>\n",
       "  </thead>\n",
       "  <tbody>\n",
       "    <tr>\n",
       "      <th>1</th>\n",
       "      <td>NaN</td>\n",
       "      <td>NaN</td>\n",
       "      <td>Chopin</td>\n",
       "      <td>Mireille</td>\n",
       "      <td>NaN</td>\n",
       "      <td>NaN</td>\n",
       "      <td>77 Boulevard Pasteur</td>\n",
       "      <td>NaN</td>\n",
       "      <td>25300</td>\n",
       "      <td>Pontarlier</td>\n",
       "      <td>06 25 89 10 07</td>\n",
       "      <td>NaN</td>\n",
       "      <td>erchopin@laposte.net</td>\n",
       "      <td>NaN</td>\n",
       "    </tr>\n",
       "    <tr>\n",
       "      <th>2</th>\n",
       "      <td>NaN</td>\n",
       "      <td>NaN</td>\n",
       "      <td>Devillers</td>\n",
       "      <td>Valérie</td>\n",
       "      <td>NaN</td>\n",
       "      <td>NaN</td>\n",
       "      <td>14 Rue Léon Augereau</td>\n",
       "      <td>NaN</td>\n",
       "      <td>49280</td>\n",
       "      <td>La Tessoualle</td>\n",
       "      <td></td>\n",
       "      <td>NaN</td>\n",
       "      <td>valeriedevillers1@gmail.com</td>\n",
       "      <td>NaN</td>\n",
       "    </tr>\n",
       "  </tbody>\n",
       "</table>\n",
       "</div>"
      ],
      "text/plain": [
       "  Raison sociale Civilité        Nom    Prénom Identité / Service / Etage  \\\n",
       "1            NaN      NaN     Chopin  Mireille                        NaN   \n",
       "2            NaN      NaN  Devillers   Valérie                        NaN   \n",
       "\n",
       "  Bâtiment / Immeuble N° et libellé de voie Lieu-dit / BP Code Postal  \\\n",
       "1                 NaN  77 Boulevard Pasteur           NaN       25300   \n",
       "2                 NaN  14 Rue Léon Augereau           NaN       49280   \n",
       "\n",
       "           Ville          Mobile Téléphone                        Email  \\\n",
       "1     Pontarlier  06 25 89 10 07       NaN         erchopin@laposte.net   \n",
       "2  La Tessoualle                       NaN  valeriedevillers1@gmail.com   \n",
       "\n",
       "  Référence Destinataire  \n",
       "1                    NaN  \n",
       "2                    NaN  "
      ]
     },
     "execution_count": 25,
     "metadata": {},
     "output_type": "execute_result"
    }
   ],
   "source": [
    "laposte_df(orders)"
   ]
  },
  {
   "cell_type": "code",
   "execution_count": 48,
   "metadata": {},
   "outputs": [],
   "source": [
    "import re\n",
    "MAX_LENGTH = 36\n",
    "adress_input = \"je     suis un con et je te pisse à la   raie espece de fils de pute de ta grand mere tchoiiiin\"\n",
    "def adress_treatment(adress_input):\n",
    "    adress_input = re.sub('\\s+', ' ', adress_input).strip()\n",
    "    if len(adress_input) >= MAX_LENGTH:\n",
    "        adress_troncated = adress_input[:MAX_LENGTH].strip()\n",
    "        adress_first_half = ''.join(adress_troncated[:-1]).strip()\n",
    "        adress_second_half = adress_input.replace(adress_first_half, '').strip()\n",
    "        return adress_first_half, adress_second_half\n",
    "    else:\n",
    "        return adress_input"
   ]
  },
  {
   "cell_type": "code",
   "execution_count": 50,
   "metadata": {},
   "outputs": [
    {
     "data": {
      "text/plain": [
       "'je suis un con et je te pisse à la'"
      ]
     },
     "execution_count": 50,
     "metadata": {},
     "output_type": "execute_result"
    }
   ],
   "source": [
    "adress_treatment(adress_input)[0]"
   ]
  },
  {
   "cell_type": "code",
   "execution_count": null,
   "metadata": {},
   "outputs": [],
   "source": [
    "import re\n",
    "\n",
    "re.sub('\\s+', ' ', mystring).strip()"
   ]
  }
 ],
 "metadata": {
  "kernelspec": {
   "display_name": "Python 3",
   "language": "python",
   "name": "python3"
  },
  "language_info": {
   "codemirror_mode": {
    "name": "ipython",
    "version": 3
   },
   "file_extension": ".py",
   "mimetype": "text/x-python",
   "name": "python",
   "nbconvert_exporter": "python",
   "pygments_lexer": "ipython3",
   "version": "3.6.5"
  }
 },
 "nbformat": 4,
 "nbformat_minor": 2
}

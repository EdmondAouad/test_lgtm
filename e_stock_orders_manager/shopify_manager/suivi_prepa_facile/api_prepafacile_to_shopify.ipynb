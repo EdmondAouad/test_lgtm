{
 "cells": [
  {
   "cell_type": "code",
   "execution_count": 28,
   "metadata": {},
   "outputs": [
    {
     "name": "stderr",
     "output_type": "stream",
     "text": [
      "C:\\Users\\edmon\\Anaconda3\\lib\\site-packages\\ipykernel_launcher.py:45: FutureWarning: Sorting because non-concatenation axis is not aligned. A future version\n",
      "of pandas will change to not sort by default.\n",
      "\n",
      "To accept the future behavior, pass 'sort=True'.\n",
      "\n",
      "To retain the current behavior and silence the warning, pass sort=False\n",
      "\n"
     ]
    }
   ],
   "source": [
    "import shopify\n",
    "import datetime\n",
    "from datetime import date, timedelta, time, datetime\n",
    "import pandas as pd\n",
    "from process_data.process_adress import process_adress\n",
    "import os\n",
    "import unidecode\n",
    "import sys\n",
    "\n",
    "droppedFile = sys.argv[1]\n",
    "\n",
    "SINCE_NUM_DAYS = 3\n",
    "UNTIL_NUM_DAYS = 0\n",
    "\n",
    "LAPOSTE_COLUMNS = ['id', 'Nom', 'Prénom']\n",
    "\n",
    "API_KEY_TRACK_ORDERS = os.environ.get('API_KEY_TRACK_ORDERS')\n",
    "API_PASSWORD_TRACK_ORDERS = os.environ.get('API_PASSWORD_TRACK_ORDERS')\n",
    "SHOP_NAME = 'iriscosmetics'\n",
    "shop_url = \"https://%s.myshopify.com/admin\" % (SHOP_NAME)\n",
    "\n",
    "shopify.ShopifyResource.set_user(API_KEY_TRACK_ORDERS)\n",
    "shopify.ShopifyResource.set_password(API_PASSWORD_TRACK_ORDERS)\n",
    "shopify.ShopifyResource.set_site(shop_url)\n",
    "#The following code prints the amount of orders up in your shopify store in command prompt window\n",
    "#shop = shopify.Shop.current()\n",
    "def date_from_today(n):\n",
    "    date_today = date.today()\n",
    "    return str(datetime.combine(date_today, time.min) - timedelta(days = n, hours = 2))\n",
    "\n",
    "def process_laposte_track(path):\n",
    "    tracking_number_df = pd.read_csv(path, encoding = \"ISO-8859-1\", sep =';')\n",
    "    tracking_number_df['id'] = (tracking_number_df['Prénom'] + tracking_number_df['Nom']).apply(lambda x: unidecode.unidecode(x).replace(' ', '').lower())\n",
    "    return tracking_number_df[['id', 'Numéro de suivi']]\n",
    "\n",
    "def shopify_orders_df(orders):\n",
    "    laposte_df = pd.DataFrame(columns = LAPOSTE_COLUMNS)\n",
    "    for order in orders:\n",
    "        dict_order = order.to_dict()\n",
    "        shipping_data = dict_order['shipping_address']\n",
    "        df = pd.DataFrame(columns = LAPOSTE_COLUMNS)\n",
    "        df['order_id'] = [str(dict_order['id'])]\n",
    "        df['Nom'] = [shipping_data['last_name'].replace('  ', ' ').strip()]\n",
    "        df['Prénom'] = shipping_data['first_name'].replace('  ', ' ').strip()       \n",
    "        laposte_df = pd.concat([laposte_df, df])\n",
    "        laposte_df = laposte_df.reset_index(drop = True)\n",
    "    laposte_df['id'] = (laposte_df['Prénom'] + laposte_df['Nom']).apply(lambda x: unidecode.unidecode(x).replace(' ', '').lower())\n",
    "    return laposte_df\n",
    "\n",
    "yesterday = str(date.today() - timedelta(1))\n",
    "orders = shopify.Order.find(created_at_min = date_from_today(SINCE_NUM_DAYS),\n",
    "                           created_at_max = date_from_today(UNTIL_NUM_DAYS))\n",
    "df_orders = shopify_orders_df(orders)\n"
   ]
  },
  {
   "cell_type": "code",
   "execution_count": 29,
   "metadata": {},
   "outputs": [],
   "source": [
    "path = 'suivi_prepa_facile/LaPoste_Export_suivis_envois_11-06-2019.csv'\n",
    "tracking_number_df = process_laposte_track(path)"
   ]
  },
  {
   "cell_type": "code",
   "execution_count": 32,
   "metadata": {},
   "outputs": [
    {
     "data": {
      "text/plain": [
       "39"
      ]
     },
     "execution_count": 32,
     "metadata": {},
     "output_type": "execute_result"
    }
   ],
   "source": [
    "len(df_orders)"
   ]
  },
  {
   "cell_type": "code",
   "execution_count": 31,
   "metadata": {},
   "outputs": [
    {
     "data": {
      "text/html": [
       "<div>\n",
       "<style scoped>\n",
       "    .dataframe tbody tr th:only-of-type {\n",
       "        vertical-align: middle;\n",
       "    }\n",
       "\n",
       "    .dataframe tbody tr th {\n",
       "        vertical-align: top;\n",
       "    }\n",
       "\n",
       "    .dataframe thead th {\n",
       "        text-align: right;\n",
       "    }\n",
       "</style>\n",
       "<table border=\"1\" class=\"dataframe\">\n",
       "  <thead>\n",
       "    <tr style=\"text-align: right;\">\n",
       "      <th></th>\n",
       "      <th>id</th>\n",
       "      <th>Numéro de suivi</th>\n",
       "      <th>Nom</th>\n",
       "      <th>Prénom</th>\n",
       "      <th>order_id</th>\n",
       "    </tr>\n",
       "  </thead>\n",
       "  <tbody>\n",
       "    <tr>\n",
       "      <th>0</th>\n",
       "      <td>chriswassbo</td>\n",
       "      <td>2L 006 124 9531 7</td>\n",
       "      <td>WASSBO</td>\n",
       "      <td>Chris</td>\n",
       "      <td>1159018086478</td>\n",
       "    </tr>\n",
       "    <tr>\n",
       "      <th>1</th>\n",
       "      <td>catherinevergnas</td>\n",
       "      <td>2L 006 124 9530 0</td>\n",
       "      <td>Vergnas</td>\n",
       "      <td>Catherine</td>\n",
       "      <td>1160003682382</td>\n",
       "    </tr>\n",
       "    <tr>\n",
       "      <th>2</th>\n",
       "      <td>florencesegard</td>\n",
       "      <td>2L 006 124 9529 4</td>\n",
       "      <td>Segard</td>\n",
       "      <td>Florence</td>\n",
       "      <td>1159588347982</td>\n",
       "    </tr>\n",
       "    <tr>\n",
       "      <th>3</th>\n",
       "      <td>corinnerosellon</td>\n",
       "      <td>2L 006 124 9528 7</td>\n",
       "      <td>Rosellon</td>\n",
       "      <td>Corinne</td>\n",
       "      <td>1158926991438</td>\n",
       "    </tr>\n",
       "    <tr>\n",
       "      <th>4</th>\n",
       "      <td>daniellerazigade</td>\n",
       "      <td>2L 006 124 9527 0</td>\n",
       "      <td>Razigade</td>\n",
       "      <td>Danielle</td>\n",
       "      <td>1159483916366</td>\n",
       "    </tr>\n",
       "    <tr>\n",
       "      <th>5</th>\n",
       "      <td>solangeravassod</td>\n",
       "      <td>2L 006 124 9526 3</td>\n",
       "      <td>RAVASSOD</td>\n",
       "      <td>Solange</td>\n",
       "      <td>1158900023374</td>\n",
       "    </tr>\n",
       "    <tr>\n",
       "      <th>6</th>\n",
       "      <td>michatpolloni</td>\n",
       "      <td>2L 006 124 9525 6</td>\n",
       "      <td>POLLONI</td>\n",
       "      <td>MICHAT</td>\n",
       "      <td>1159205519438</td>\n",
       "    </tr>\n",
       "    <tr>\n",
       "      <th>7</th>\n",
       "      <td>tassaditmessani</td>\n",
       "      <td>2L 006 124 9524 9</td>\n",
       "      <td>Messani</td>\n",
       "      <td>Tassadit</td>\n",
       "      <td>1159601455182</td>\n",
       "    </tr>\n",
       "    <tr>\n",
       "      <th>8</th>\n",
       "      <td>sophiemartagon</td>\n",
       "      <td>2L 006 124 9523 2</td>\n",
       "      <td>Martagon</td>\n",
       "      <td>sophie</td>\n",
       "      <td>1160016986190</td>\n",
       "    </tr>\n",
       "    <tr>\n",
       "      <th>9</th>\n",
       "      <td>jacquelinemaguet</td>\n",
       "      <td>2L 006 124 9521 8</td>\n",
       "      <td>maguet</td>\n",
       "      <td>jacqueline</td>\n",
       "      <td>1158545211470</td>\n",
       "    </tr>\n",
       "    <tr>\n",
       "      <th>10</th>\n",
       "      <td>catherinelibner</td>\n",
       "      <td>2L 006 124 9520 1</td>\n",
       "      <td>Libner</td>\n",
       "      <td>Catherine</td>\n",
       "      <td>1158864437326</td>\n",
       "    </tr>\n",
       "    <tr>\n",
       "      <th>11</th>\n",
       "      <td>corinnehirsch</td>\n",
       "      <td>2L 006 124 9519 5</td>\n",
       "      <td>Hirsch</td>\n",
       "      <td>Corinne</td>\n",
       "      <td>1159162265678</td>\n",
       "    </tr>\n",
       "    <tr>\n",
       "      <th>12</th>\n",
       "      <td>josetteherlich</td>\n",
       "      <td>2L 006 124 9518 8</td>\n",
       "      <td>Herlich</td>\n",
       "      <td>Josette</td>\n",
       "      <td>1159590314062</td>\n",
       "    </tr>\n",
       "    <tr>\n",
       "      <th>13</th>\n",
       "      <td>nadyherault</td>\n",
       "      <td>2L 006 124 9517 1</td>\n",
       "      <td>Herault</td>\n",
       "      <td>Nady</td>\n",
       "      <td>1159326826574</td>\n",
       "    </tr>\n",
       "    <tr>\n",
       "      <th>14</th>\n",
       "      <td>valerieglou</td>\n",
       "      <td>2L 006 124 9516 4</td>\n",
       "      <td>Glou</td>\n",
       "      <td>Valérie</td>\n",
       "      <td>1158857424974</td>\n",
       "    </tr>\n",
       "    <tr>\n",
       "      <th>15</th>\n",
       "      <td>florencegiroux</td>\n",
       "      <td>2L 006 124 9515 7</td>\n",
       "      <td>Giroux</td>\n",
       "      <td>Florence</td>\n",
       "      <td>1160148418638</td>\n",
       "    </tr>\n",
       "    <tr>\n",
       "      <th>16</th>\n",
       "      <td>catherinedossantos</td>\n",
       "      <td>2L 006 124 9514 0</td>\n",
       "      <td>DOS SANTOS</td>\n",
       "      <td>catherine</td>\n",
       "      <td>1160059322446</td>\n",
       "    </tr>\n",
       "    <tr>\n",
       "      <th>17</th>\n",
       "      <td>francoisedelattre</td>\n",
       "      <td>2L 006 124 9513 3</td>\n",
       "      <td>Delattre</td>\n",
       "      <td>Françoise</td>\n",
       "      <td>1159696941134</td>\n",
       "    </tr>\n",
       "    <tr>\n",
       "      <th>18</th>\n",
       "      <td>mariedaavid</td>\n",
       "      <td>2L 006 124 9512 6</td>\n",
       "      <td>daavid</td>\n",
       "      <td>marie</td>\n",
       "      <td>1160116142158</td>\n",
       "    </tr>\n",
       "    <tr>\n",
       "      <th>19</th>\n",
       "      <td>moniquecotto</td>\n",
       "      <td>2L 006 124 9511 9</td>\n",
       "      <td>COTTO</td>\n",
       "      <td>Monique</td>\n",
       "      <td>1160650195022</td>\n",
       "    </tr>\n",
       "    <tr>\n",
       "      <th>20</th>\n",
       "      <td>autoecolebelvascharpentiervalerie</td>\n",
       "      <td>2L 006 124 9510 2</td>\n",
       "      <td>Charpentier valerie</td>\n",
       "      <td>Auto ecole belvas</td>\n",
       "      <td>1159145521230</td>\n",
       "    </tr>\n",
       "    <tr>\n",
       "      <th>21</th>\n",
       "      <td>lundholmcatharina</td>\n",
       "      <td>2L 006 124 9509 6</td>\n",
       "      <td>Catharina</td>\n",
       "      <td>Lundholm</td>\n",
       "      <td>1160319762510</td>\n",
       "    </tr>\n",
       "    <tr>\n",
       "      <th>22</th>\n",
       "      <td>josettecaldari</td>\n",
       "      <td>2L 006 124 9508 9</td>\n",
       "      <td>Caldari</td>\n",
       "      <td>Josette</td>\n",
       "      <td>1160335425614</td>\n",
       "    </tr>\n",
       "    <tr>\n",
       "      <th>23</th>\n",
       "      <td>catherinebouvart</td>\n",
       "      <td>2L 006 124 9507 2</td>\n",
       "      <td>Bouvart</td>\n",
       "      <td>Catherine</td>\n",
       "      <td>1158751977550</td>\n",
       "    </tr>\n",
       "    <tr>\n",
       "      <th>24</th>\n",
       "      <td>anniebourvic</td>\n",
       "      <td>2L 006 124 9506 5</td>\n",
       "      <td>Bourvic</td>\n",
       "      <td>Annie</td>\n",
       "      <td>1160000241742</td>\n",
       "    </tr>\n",
       "    <tr>\n",
       "      <th>25</th>\n",
       "      <td>violettebarbieri</td>\n",
       "      <td>2L 006 124 9505 8</td>\n",
       "      <td>barbieri</td>\n",
       "      <td>Violette</td>\n",
       "      <td>1160574861390</td>\n",
       "    </tr>\n",
       "    <tr>\n",
       "      <th>26</th>\n",
       "      <td>martineasquini</td>\n",
       "      <td>2L 006 124 9504 1</td>\n",
       "      <td>asquini</td>\n",
       "      <td>martine</td>\n",
       "      <td>1160777203790</td>\n",
       "    </tr>\n",
       "    <tr>\n",
       "      <th>27</th>\n",
       "      <td>neurazangele</td>\n",
       "      <td>2L 006 124 9503 4</td>\n",
       "      <td>Angele</td>\n",
       "      <td>Neuraz</td>\n",
       "      <td>1160476229710</td>\n",
       "    </tr>\n",
       "  </tbody>\n",
       "</table>\n",
       "</div>"
      ],
      "text/plain": [
       "                                   id    Numéro de suivi                  Nom  \\\n",
       "0                         chriswassbo  2L 006 124 9531 7               WASSBO   \n",
       "1                    catherinevergnas  2L 006 124 9530 0              Vergnas   \n",
       "2                      florencesegard  2L 006 124 9529 4               Segard   \n",
       "3                     corinnerosellon  2L 006 124 9528 7             Rosellon   \n",
       "4                    daniellerazigade  2L 006 124 9527 0             Razigade   \n",
       "5                     solangeravassod  2L 006 124 9526 3             RAVASSOD   \n",
       "6                       michatpolloni  2L 006 124 9525 6              POLLONI   \n",
       "7                     tassaditmessani  2L 006 124 9524 9              Messani   \n",
       "8                      sophiemartagon  2L 006 124 9523 2             Martagon   \n",
       "9                    jacquelinemaguet  2L 006 124 9521 8               maguet   \n",
       "10                    catherinelibner  2L 006 124 9520 1               Libner   \n",
       "11                      corinnehirsch  2L 006 124 9519 5               Hirsch   \n",
       "12                     josetteherlich  2L 006 124 9518 8              Herlich   \n",
       "13                        nadyherault  2L 006 124 9517 1              Herault   \n",
       "14                        valerieglou  2L 006 124 9516 4                 Glou   \n",
       "15                     florencegiroux  2L 006 124 9515 7               Giroux   \n",
       "16                 catherinedossantos  2L 006 124 9514 0           DOS SANTOS   \n",
       "17                  francoisedelattre  2L 006 124 9513 3             Delattre   \n",
       "18                        mariedaavid  2L 006 124 9512 6               daavid   \n",
       "19                       moniquecotto  2L 006 124 9511 9                COTTO   \n",
       "20  autoecolebelvascharpentiervalerie  2L 006 124 9510 2  Charpentier valerie   \n",
       "21                  lundholmcatharina  2L 006 124 9509 6            Catharina   \n",
       "22                     josettecaldari  2L 006 124 9508 9              Caldari   \n",
       "23                   catherinebouvart  2L 006 124 9507 2              Bouvart   \n",
       "24                       anniebourvic  2L 006 124 9506 5              Bourvic   \n",
       "25                   violettebarbieri  2L 006 124 9505 8             barbieri   \n",
       "26                     martineasquini  2L 006 124 9504 1              asquini   \n",
       "27                       neurazangele  2L 006 124 9503 4               Angele   \n",
       "\n",
       "               Prénom       order_id  \n",
       "0               Chris  1159018086478  \n",
       "1           Catherine  1160003682382  \n",
       "2            Florence  1159588347982  \n",
       "3             Corinne  1158926991438  \n",
       "4            Danielle  1159483916366  \n",
       "5             Solange  1158900023374  \n",
       "6              MICHAT  1159205519438  \n",
       "7            Tassadit  1159601455182  \n",
       "8              sophie  1160016986190  \n",
       "9          jacqueline  1158545211470  \n",
       "10          Catherine  1158864437326  \n",
       "11            Corinne  1159162265678  \n",
       "12            Josette  1159590314062  \n",
       "13               Nady  1159326826574  \n",
       "14            Valérie  1158857424974  \n",
       "15           Florence  1160148418638  \n",
       "16          catherine  1160059322446  \n",
       "17          Françoise  1159696941134  \n",
       "18              marie  1160116142158  \n",
       "19            Monique  1160650195022  \n",
       "20  Auto ecole belvas  1159145521230  \n",
       "21           Lundholm  1160319762510  \n",
       "22            Josette  1160335425614  \n",
       "23          Catherine  1158751977550  \n",
       "24              Annie  1160000241742  \n",
       "25           Violette  1160574861390  \n",
       "26            martine  1160777203790  \n",
       "27             Neuraz  1160476229710  "
      ]
     },
     "execution_count": 31,
     "metadata": {},
     "output_type": "execute_result"
    }
   ],
   "source": [
    "pd.merge(tracking_number_df, df_orders, on = 'id')"
   ]
  },
  {
   "cell_type": "code",
   "execution_count": 22,
   "metadata": {},
   "outputs": [
    {
     "data": {
      "text/plain": [
       "False"
      ]
     },
     "execution_count": 22,
     "metadata": {},
     "output_type": "execute_result"
    }
   ],
   "source": [
    "shopify_order = shopify.Order.find(1160818557006)\n",
    "new_fulfillment = shopify.Fulfillment({ 'order_id': shopify_order.id, 'line_items': shopify_order.line_items })\n",
    "new_fulfillment.tracking_company = 'La Poste'\n",
    "new_fulfillment.tracking_numbers = ['2L00612495225']\n",
    "new_fulfillment.save()"
   ]
  },
  {
   "cell_type": "code",
   "execution_count": 27,
   "metadata": {},
   "outputs": [
    {
     "data": {
      "text/plain": [
       "'2019-06-09T00:04:18+02:00'"
      ]
     },
     "execution_count": 27,
     "metadata": {},
     "output_type": "execute_result"
    }
   ],
   "source": [
    "orders[0].to_dict()['created_at']"
   ]
  },
  {
   "cell_type": "code",
   "execution_count": 29,
   "metadata": {},
   "outputs": [
    {
     "data": {
      "text/plain": [
       "datetime.date(2019, 6, 9)"
      ]
     },
     "execution_count": 29,
     "metadata": {},
     "output_type": "execute_result"
    }
   ],
   "source": [
    "date.today()"
   ]
  },
  {
   "cell_type": "code",
   "execution_count": 37,
   "metadata": {},
   "outputs": [
    {
     "ename": "SyntaxError",
     "evalue": "EOL while scanning string literal (<ipython-input-37-090332da7a5e>, line 1)",
     "output_type": "error",
     "traceback": [
      "\u001b[1;36m  File \u001b[1;32m\"<ipython-input-37-090332da7a5e>\"\u001b[1;36m, line \u001b[1;32m1\u001b[0m\n\u001b[1;33m    datetime.strptime('2019-06-09T00:04:18+02:00', '%b %d %Y %I:%M%p)\u001b[0m\n\u001b[1;37m                                                                     ^\u001b[0m\n\u001b[1;31mSyntaxError\u001b[0m\u001b[1;31m:\u001b[0m EOL while scanning string literal\n"
     ]
    }
   ],
   "source": [
    "datetime.strptime('2019-06-09T00:04:18+02:00')"
   ]
  },
  {
   "cell_type": "code",
   "execution_count": 50,
   "metadata": {},
   "outputs": [],
   "source": [
    "df_orders['Nom'][6] = 'Maelys Amedee'"
   ]
  },
  {
   "cell_type": "code",
   "execution_count": 66,
   "metadata": {},
   "outputs": [],
   "source": [
    "df_orders.to_csv(subdir + '/' + yesterday +'.csv', sep = ';')"
   ]
  },
  {
   "cell_type": "code",
   "execution_count": 64,
   "metadata": {},
   "outputs": [],
   "source": [
    "import random\n",
    "df_orders['Poids'] = str(random.randint(20,100))\n",
    "df_orders['Poids'] = df_orders['Poids'].apply(lambda x: str(random.randint(20,100)))"
   ]
  },
  {
   "cell_type": "code",
   "execution_count": 65,
   "metadata": {},
   "outputs": [
    {
     "data": {
      "text/plain": [
       "1      26\n",
       "2      41\n",
       "3      36\n",
       "4     100\n",
       "5      25\n",
       "6      26\n",
       "7      91\n",
       "8      72\n",
       "9      43\n",
       "10     63\n",
       "11     89\n",
       "12     27\n",
       "13     74\n",
       "14     35\n",
       "15     81\n",
       "16     87\n",
       "17     95\n",
       "18     77\n",
       "19     83\n",
       "Name: Poids, dtype: object"
      ]
     },
     "execution_count": 65,
     "metadata": {},
     "output_type": "execute_result"
    }
   ],
   "source": [
    "df_orders['Poids']"
   ]
  },
  {
   "cell_type": "code",
   "execution_count": 67,
   "metadata": {},
   "outputs": [
    {
     "data": {
      "text/plain": [
       "['',\n",
       " 'MSTest',\n",
       " 'JUnit',\n",
       " 'TestNG',\n",
       " 'NUni',\n",
       " 'DUnit',\n",
       " 'PyUnit',\n",
       " 'Ruby',\n",
       " 'PHPUnit',\n",
       " 'TestComplete']"
      ]
     },
     "execution_count": 67,
     "metadata": {},
     "output_type": "execute_result"
    }
   ],
   "source": [
    "'MSTest, JUnit, TestNG, NUni, DUnit,\n",
    "PyUnit, Ruby, PHPUnit, TestComplete.split(' ')"
   ]
  },
  {
   "cell_type": "code",
   "execution_count": 44,
   "metadata": {},
   "outputs": [],
   "source": [
    "import pandas as pd\n",
    "import unidecode\n",
    "path = 'suivi_prepa_facile/LaPoste_Export_suivis_envois_09-06-2019.csv'\n",
    "tracking_number_df = pd.read_csv(path, encoding = \"ISO-8859-1\", sep =';')\n",
    "tracking_number_df['id'] = (tracking_number_df['Prénom'] + tracking_number_df['Nom']).apply(lambda x: unidecode.unidecode(x).replace(' ', '').lower())"
   ]
  },
  {
   "cell_type": "code",
   "execution_count": 45,
   "metadata": {},
   "outputs": [
    {
     "data": {
      "text/plain": [
       "0              anniestaquet\n",
       "1     frederiqueroigborotra\n",
       "2             lilyanerogeau\n",
       "3       etiennettemichalski\n",
       "4        maelysmaelysamedee\n",
       "5          claudinelemagnen\n",
       "6         muriellechevalier\n",
       "7               amalladghem\n",
       "8         mireillekauffmann\n",
       "9     mariechristineimbault\n",
       "10          stephaniehenric\n",
       "11         teresaguincestre\n",
       "12     genevievegaudilliere\n",
       "13       stephaniegatticchi\n",
       "14       dominiquechiarelli\n",
       "15            ginettecastra\n",
       "16             josianebucci\n",
       "17             sandrineamil\n",
       "18              cynthiaabel\n",
       "Name: id, dtype: object"
      ]
     },
     "execution_count": 45,
     "metadata": {},
     "output_type": "execute_result"
    }
   ],
   "source": [
    "tracking_number_df['id']"
   ]
  },
  {
   "cell_type": "code",
   "execution_count": 39,
   "metadata": {},
   "outputs": [],
   "source": [
    "df['id_'] = (df['Prénom']+df['Nom']).apply(lambda x: unidecode.unidecode(x).replace(' ', '').lower())"
   ]
  },
  {
   "cell_type": "code",
   "execution_count": 40,
   "metadata": {},
   "outputs": [
    {
     "data": {
      "text/plain": [
       "0              anniestaquet\n",
       "1     frederiqueroigborotra\n",
       "2             lilyanerogeau\n",
       "3       etiennettemichalski\n",
       "4        maelysmaelysamedee\n",
       "5          claudinelemagnen\n",
       "6         muriellechevalier\n",
       "7               amalladghem\n",
       "8         mireillekauffmann\n",
       "9     mariechristineimbault\n",
       "10          stephaniehenric\n",
       "11         teresaguincestre\n",
       "12     genevievegaudilliere\n",
       "13       stephaniegatticchi\n",
       "14       dominiquechiarelli\n",
       "15            ginettecastra\n",
       "16             josianebucci\n",
       "17             sandrineamil\n",
       "18              cynthiaabel\n",
       "Name: id_, dtype: object"
      ]
     },
     "execution_count": 40,
     "metadata": {},
     "output_type": "execute_result"
    }
   ],
   "source": [
    "df['id_']"
   ]
  },
  {
   "cell_type": "code",
   "execution_count": null,
   "metadata": {},
   "outputs": [],
   "source": [
    "c = a*b\n",
    "\n",
    "if c>clim:\n",
    "    \n",
    "else:\n",
    "    "
   ]
  }
 ],
 "metadata": {
  "kernelspec": {
   "display_name": "Python 3",
   "language": "python",
   "name": "python3"
  },
  "language_info": {
   "codemirror_mode": {
    "name": "ipython",
    "version": 3
   },
   "file_extension": ".py",
   "mimetype": "text/x-python",
   "name": "python",
   "nbconvert_exporter": "python",
   "pygments_lexer": "ipython3",
   "version": "3.6.5"
  }
 },
 "nbformat": 4,
 "nbformat_minor": 2
}
